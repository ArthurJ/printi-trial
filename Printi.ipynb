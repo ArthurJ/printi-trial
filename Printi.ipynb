{
 "cells": [
  {
   "cell_type": "code",
   "execution_count": 1,
   "metadata": {},
   "outputs": [],
   "source": [
    "bill_materials = spark.read.csv('bill_of_materials.csv', header=True, nullValue='NA')\n",
    "comp_boss = spark.read.csv('comp_boss.csv', header=True, nullValue='NA')\n",
    "price_quote = spark.read.csv('price_quote.csv', header=True, nullValue='NA')"
   ]
  },
  {
   "cell_type": "code",
   "execution_count": 2,
   "metadata": {},
   "outputs": [
    {
     "name": "stdout",
     "output_type": "stream",
     "text": [
      "+----------------+--------------+----------+--------------+----------+--------------+----------+--------------+----------+--------------+----------+--------------+----------+--------------+----------+--------------+----------+\n",
      "|tube_assembly_id|component_id_1|quantity_1|component_id_2|quantity_2|component_id_3|quantity_3|component_id_4|quantity_4|component_id_5|quantity_5|component_id_6|quantity_6|component_id_7|quantity_7|component_id_8|quantity_8|\n",
      "+----------------+--------------+----------+--------------+----------+--------------+----------+--------------+----------+--------------+----------+--------------+----------+--------------+----------+--------------+----------+\n",
      "|        TA-00001|        C-1622|         2|        C-1629|         2|              |          |              |          |              |          |              |          |              |          |              |          |\n",
      "|        TA-00002|        C-1312|         2|              |          |              |          |              |          |              |          |              |          |              |          |              |          |\n",
      "|        TA-00003|        C-1312|         2|              |          |              |          |              |          |              |          |              |          |              |          |              |          |\n",
      "+----------------+--------------+----------+--------------+----------+--------------+----------+--------------+----------+--------------+----------+--------------+----------+--------------+----------+--------------+----------+\n",
      "only showing top 3 rows\n",
      "\n"
     ]
    }
   ],
   "source": [
    "bill_materials.na.fill('').show(3)"
   ]
  },
  {
   "cell_type": "code",
   "execution_count": 3,
   "metadata": {},
   "outputs": [
    {
     "name": "stdout",
     "output_type": "stream",
     "text": [
      "+------------+-----------------+----+------------------+-------------+-----------+----------------+-----------------+-----------------+------+-------------+-----------------+--------------+-----------+------+\n",
      "|component_id|component_type_id|type|connection_type_id|outside_shape|  base_type|height_over_tube|bolt_pattern_long|bolt_pattern_wide|groove|base_diameter|shoulder_diameter|unique_feature|orientation|weight|\n",
      "+------------+-----------------+----+------------------+-------------+-----------+----------------+-----------------+-----------------+------+-------------+-----------------+--------------+-----------+------+\n",
      "|      C-0008|           CP-018|Boss|             B-005|        Round|Flat Bottom|              17|                 |                 |    No|           22|                 |           Yes|        Yes| 0.032|\n",
      "|      C-0009|           CP-018|Boss|             B-004|        Round|Flat Bottom|              13|                 |                 |    No|           25|                 |            No|        Yes| 0.033|\n",
      "|      C-0020|           CP-018|Boss|             B-005|        Round|     Saddle|            28.4|                 |                 |    No|           35|                 |           Yes|        Yes|  0.07|\n",
      "+------------+-----------------+----+------------------+-------------+-----------+----------------+-----------------+-----------------+------+-------------+-----------------+--------------+-----------+------+\n",
      "only showing top 3 rows\n",
      "\n"
     ]
    }
   ],
   "source": [
    "comp_boss.na.fill('').show(3)"
   ]
  },
  {
   "cell_type": "code",
   "execution_count": 4,
   "metadata": {},
   "outputs": [
    {
     "name": "stdout",
     "output_type": "stream",
     "text": [
      "+----------------+--------+----------+------------+------------------+---------------+--------+----------------+\n",
      "|tube_assembly_id|supplier|quote_date|annual_usage|min_order_quantity|bracket_pricing|quantity|            cost|\n",
      "+----------------+--------+----------+------------+------------------+---------------+--------+----------------+\n",
      "|        TA-00002|  S-0066|2013-07-07|           0|                 0|            Yes|       1|21.9059330191461|\n",
      "|        TA-00002|  S-0066|2013-07-07|           0|                 0|            Yes|       2|12.3412139792904|\n",
      "|        TA-00002|  S-0066|2013-07-07|           0|                 0|            Yes|       5|6.60182614356538|\n",
      "+----------------+--------+----------+------------+------------------+---------------+--------+----------------+\n",
      "only showing top 3 rows\n",
      "\n"
     ]
    }
   ],
   "source": [
    "price_quote.na.fill('').show(3)"
   ]
  },
  {
   "cell_type": "code",
   "execution_count": 5,
   "metadata": {},
   "outputs": [],
   "source": [
    "comp_boss.write.saveAsTable('comp_boss')\n",
    "bill_materials.write.saveAsTable('bill_materials')\n",
    "price_quote.write.saveAsTable('price_quote')"
   ]
  }
 ],
 "metadata": {
  "kernelspec": {
   "display_name": "Python 3",
   "language": "python",
   "name": "python3"
  },
  "language_info": {
   "codemirror_mode": {
    "name": "ipython",
    "version": 3
   },
   "file_extension": ".py",
   "mimetype": "text/x-python",
   "name": "python",
   "nbconvert_exporter": "python",
   "pygments_lexer": "ipython3",
   "version": "3.6.6"
  }
 },
 "nbformat": 4,
 "nbformat_minor": 2
}
